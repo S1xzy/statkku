{
  "cells": [
    {
      "cell_type": "markdown",
      "metadata": {
        "id": "view-in-github",
        "colab_type": "text"
      },
      "source": [
        "<a href=\"https://colab.research.google.com/github/S1xzy/statkku/blob/main/BDS-Case_Study_1_67.ipynb\" target=\"_parent\"><img src=\"https://colab.research.google.com/assets/colab-badge.svg\" alt=\"Open In Colab\"/></a>"
      ]
    },
    {
      "cell_type": "markdown",
      "id": "5892fdd0",
      "metadata": {
        "id": "5892fdd0"
      },
      "source": [
        "# Case Study 1: Data Preprocessing, Data Visualization, Data Analysis"
      ]
    },
    {
      "cell_type": "markdown",
      "id": "2_toCrTGPwaK",
      "metadata": {
        "id": "2_toCrTGPwaK"
      },
      "source": [
        "ชื่อกลุ่ม: ...\n",
        "\n",
        "รายชื่อสมาชิก การแบ่งงาน และสัดส่วนในการทำงาน:   \n",
        "1. ...\n",
        "2. ...\n",
        "3. ...\n",
        "4. ..."
      ]
    },
    {
      "cell_type": "markdown",
      "id": "eOVrUuyhP6Uf",
      "metadata": {
        "id": "eOVrUuyhP6Uf"
      },
      "source": [
        "กำหนดส่ง: พฤหัสบดี 9 มกราคม 2568 \\\n",
        "รายงานในชั้นเรียน: ศุกร์ 10 มกราคม 2568"
      ]
    },
    {
      "cell_type": "markdown",
      "id": "3a2d741e",
      "metadata": {
        "id": "3a2d741e"
      },
      "source": [
        "## Financial Transaction Data Analysis\n",
        "\n",
        "<p>\n",
        "<center><img src=\"https://financialcrimeacademy.org/wp-content/uploads/2023/04/2-82.jpg\" alt=\"fin\" width=\"400\"/></center>\n",
        "<!-- $$\\href{https://www.citysignal.com/whats-the-difference-between-green-cabs-yellow-cabs-other-taxis-in-nyc/}{\\text{Compare yellow and green cabs}}$$ -->\n",
        "\n",
        "ดาวน์โหลดและศึกษาข้อมูลธุรกรรมการเงินจาก https://www.kaggle.com/datasets/computingvictor/transactions-fraud-datasets ของสถาบันการเงินแห่งหนึ่ง ซึ่งประกอบด้วยข้อมูลหลายไฟล์ ได้แก่\n",
        "* `transactions_data.csv` ข้อมูลเกี่ยวกับกิจกรรมธุรกรรมการเงิน ประกอบด้วย มีการใช้จ่ายเท่าไร เกิดขึ้นเมื่อใด และจ่ายให้ธุรกิจอะไร\n",
        "* `cards_dat.csv` ข้อมูลเกี่ยวกับบัตรที่ใช้ ซึ่งมีประเภทของบัตร วงเงินจำกัด วันที่ใช้จ่าย โดยลิ้งก์กับข้อมูลลูกค้าด้วย card_id\n",
        "* `mcc_codes.json` ข้อมูลธุรกิจ ประกอบไปด้วยโค้ดแสดงประเภทของธุรกิจ\n",
        "* `train_fraud_labels.json` ข้อมูลการฉ้อฉล ระบุว่าธุรกรรมที่เกิดขึ้นเป็นการฉ้อฉลหรือไม่ ซึ่งอาจเกิดจากบัตรถูกขโมยไปใช้ ข้อมูลบัตรหรือรหัสถูกเข้าถึงและนำไปใช้ทำธุรกรรมออนไลน์ เป็นต้น\n",
        "* `users_data.csv` ข้อมูลลูกค้า"
      ]
    },
    {
      "cell_type": "markdown",
      "id": "89d4e199",
      "metadata": {
        "id": "89d4e199"
      },
      "source": [
        "ให้สมมติว่ากลุ่มของคุณเป็นเจ้าหน้าที่ระดับสูงของธนาคาร สร้างโจทย์จากข้อมูลที่ให้ และอธิบายว่าโจทย์ที่ได้ตั้งขึ้นมีประโยชน์ต่อการดำเนินธุรกิจของธนาคารอย่างไร?"
      ]
    },
    {
      "cell_type": "markdown",
      "id": "3e6bb460",
      "metadata": {
        "id": "3e6bb460"
      },
      "source": [
        "โจทย์หรือปัญหา: \\\n",
        "...\n",
        "\n",
        "ประโยชน์ที่จะได้: \\\n",
        "..."
      ]
    },
    {
      "cell_type": "markdown",
      "id": "52b5fd89",
      "metadata": {
        "id": "52b5fd89"
      },
      "source": [
        "## อ่านข้อมูล"
      ]
    },
    {
      "cell_type": "code",
      "execution_count": null,
      "id": "bd6ed0b9",
      "metadata": {
        "id": "bd6ed0b9"
      },
      "outputs": [],
      "source": []
    },
    {
      "cell_type": "markdown",
      "id": "1d49aab0",
      "metadata": {
        "id": "1d49aab0"
      },
      "source": [
        "รวมข้อมูล"
      ]
    },
    {
      "cell_type": "code",
      "execution_count": null,
      "id": "9a3c6bab",
      "metadata": {
        "id": "9a3c6bab"
      },
      "outputs": [],
      "source": []
    },
    {
      "cell_type": "markdown",
      "id": "d1045d7f",
      "metadata": {
        "id": "d1045d7f"
      },
      "source": [
        "## เตรียมข้อมูล"
      ]
    },
    {
      "cell_type": "code",
      "execution_count": null,
      "id": "5d47438c",
      "metadata": {
        "id": "5d47438c"
      },
      "outputs": [],
      "source": []
    },
    {
      "cell_type": "markdown",
      "id": "hmFQtk7FR05u",
      "metadata": {
        "id": "hmFQtk7FR05u"
      },
      "source": [
        "ข้อมูลมีค่าว่าง (missing values) บ้างหรือไม่? หากมีให้ท่านอธิบายขั้นตอน และเหตุผลที่ใช้ในการจัดการกับค่าเหล่านี้"
      ]
    },
    {
      "cell_type": "code",
      "execution_count": null,
      "id": "oDYHKll7R2AA",
      "metadata": {
        "id": "oDYHKll7R2AA"
      },
      "outputs": [],
      "source": []
    },
    {
      "cell_type": "markdown",
      "id": "U8hPUtP_R4GY",
      "metadata": {
        "id": "U8hPUtP_R4GY"
      },
      "source": [
        "ข้อมูลมี Outliers หรือ Noise หรือไม่? หากมีให้ท่านอธิบายขั้นตอน และเหตุผลที่ใช้ในการจัดการกับค่าเหล่านี้"
      ]
    },
    {
      "cell_type": "code",
      "execution_count": null,
      "id": "t4tloKOCR4y7",
      "metadata": {
        "id": "t4tloKOCR4y7"
      },
      "outputs": [],
      "source": []
    },
    {
      "cell_type": "markdown",
      "id": "Y9-UmXJHR7kA",
      "metadata": {
        "id": "Y9-UmXJHR7kA"
      },
      "source": [
        "## สำรวจข้อมูลเบื้องต้น"
      ]
    },
    {
      "cell_type": "code",
      "execution_count": null,
      "id": "ri7hnDh3R7Ip",
      "metadata": {
        "id": "ri7hnDh3R7Ip"
      },
      "outputs": [],
      "source": []
    },
    {
      "cell_type": "markdown",
      "id": "4f66ef0c",
      "metadata": {
        "id": "4f66ef0c"
      },
      "source": [
        "ให้ท่านสร้างการคาดเดา (Conjectures) ที่น่าสนใจที่เกี่ยวข้องกับโจทย์ของกลุ่มเป็นจำนวน 3 ข้อ แล้วสนับสนุนหรือแย้งการคาดเดาของท่านด้วยการสร้าง Data Visualization หรือ Pivot Table\n",
        "* ...\n",
        "* ...\n",
        "* ..."
      ]
    },
    {
      "cell_type": "code",
      "execution_count": null,
      "id": "327afb2a",
      "metadata": {
        "id": "327afb2a"
      },
      "outputs": [],
      "source": []
    },
    {
      "cell_type": "markdown",
      "id": "def91618",
      "metadata": {
        "id": "def91618"
      },
      "source": [
        "## วิเคราะห์ข้อมูล"
      ]
    },
    {
      "cell_type": "code",
      "execution_count": null,
      "id": "9f0043b3",
      "metadata": {
        "id": "9f0043b3"
      },
      "outputs": [],
      "source": []
    },
    {
      "cell_type": "markdown",
      "id": "cf28c948",
      "metadata": {
        "id": "cf28c948"
      },
      "source": [
        "## สรุปผลการวิเคราะห์"
      ]
    },
    {
      "cell_type": "code",
      "execution_count": null,
      "id": "fa225d2f",
      "metadata": {
        "id": "fa225d2f"
      },
      "outputs": [],
      "source": []
    },
    {
      "cell_type": "markdown",
      "id": "N9hNuoxySdo5",
      "metadata": {
        "id": "N9hNuoxySdo5"
      },
      "source": [
        "-----------------\n",
        "# เสร็จแล้ววววว 🥳\n",
        "\n",
        "สิ่งที่ต้องแนบส่ง:\n",
        "* Python Notebook File (ตัวอย่าง \"filename.ipynb\") หรือ Google Colab link ที่ได้แชร์แล้ว หรือ GitHub link ซึ่งมีผลลัพธ์จากการรันโค้ดแสดงทั้งหมด\n",
        "* Slides สำหรับการนำเสนอ **10** นาที ซึ่งประกอบไปด้วย\n",
        "    * ตอบคำถามต่าง ๆ ใน Notebook\n",
        "    * อธิบายวิธีการที่ใช้ และแสดง screenshots ของผลลัพธ์ที่ได้จาก Python Notebook โดยแสดงภาพและตาราง โดยไม่จำเป็นที่จะต้องนำเสนอ source code\n",
        "\n",
        "** Note: แต่ละกลุ่มส่งแค่ครั้งเดียว **"
      ]
    }
  ],
  "metadata": {
    "colab": {
      "provenance": [],
      "include_colab_link": true
    },
    "kernelspec": {
      "display_name": "Python 3 (ipykernel)",
      "language": "python",
      "name": "python3"
    },
    "language_info": {
      "codemirror_mode": {
        "name": "ipython",
        "version": 3
      },
      "file_extension": ".py",
      "mimetype": "text/x-python",
      "name": "python",
      "nbconvert_exporter": "python",
      "pygments_lexer": "ipython3",
      "version": "3.8.8"
    }
  },
  "nbformat": 4,
  "nbformat_minor": 5
}